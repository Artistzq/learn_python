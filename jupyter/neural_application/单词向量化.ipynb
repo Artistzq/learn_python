{
 "cells": [
  {
   "cell_type": "code",
   "execution_count": 21,
   "metadata": {
    "ExecuteTime": {
     "end_time": "2020-02-23T03:23:14.712615Z",
     "start_time": "2020-02-23T03:23:14.697203Z"
    }
   },
   "outputs": [
    {
     "name": "stdout",
     "output_type": "stream",
     "text": [
      "{'The': 1, 'cat': 2, 'jump': 3, 'over': 4, 'the': 5, 'dog': 6, 'ate': 7, 'my': 8, 'homework': 9}\n",
      "(2, 10, 10)\n",
      "\n",
      "sentence 1\n",
      "The -> [0. 1. 0. 0. 0. 0. 0. 0. 0. 0.]\n",
      "cat -> [0. 0. 1. 0. 0. 0. 0. 0. 0. 0.]\n",
      "jump -> [0. 0. 0. 1. 0. 0. 0. 0. 0. 0.]\n",
      "over -> [0. 0. 0. 0. 1. 0. 0. 0. 0. 0.]\n",
      "the -> [0. 0. 0. 0. 0. 1. 0. 0. 0. 0.]\n",
      "dog -> [0. 0. 0. 0. 0. 0. 1. 0. 0. 0.]\n",
      "\n",
      "sentence 2\n",
      "The -> [0. 1. 0. 0. 0. 0. 0. 0. 0. 0.]\n",
      "dog -> [0. 0. 0. 0. 0. 0. 1. 0. 0. 0.]\n",
      "ate -> [0. 0. 0. 0. 0. 0. 0. 1. 0. 0.]\n",
      "my -> [0. 0. 0. 0. 0. 0. 0. 0. 1. 0.]\n",
      "homework -> [0. 0. 0. 0. 0. 0. 0. 0. 0. 1.]\n"
     ]
    }
   ],
   "source": [
    "import numpy as np\n",
    "samples = ['The cat jump over the dog', 'The dog ate my homework']\n",
    "\n",
    "#我们先将每个单词放置到一个哈希表中\n",
    "token_index = {}\n",
    "for sample in samples:\n",
    "    #将一个句子分解成多个单词\n",
    "    for word in sample.split():\n",
    "        if word not in token_index:\n",
    "            token_index[word] = len(token_index) + 1\n",
    "print(token_index)\n",
    "            \n",
    "#设置句子的最大长度\n",
    "max_length = 10\n",
    "results = np.zeros((len(samples), max_length, max(token_index.values()) + 1))\n",
    "print(results.shape)\n",
    "for i, sample in enumerate(samples):\n",
    "    print(\"\\nsentence\", i+1)\n",
    "    for j, word in list(enumerate(sample.split()))[: max_length]:\n",
    "        index = token_index.get(word)\n",
    "        results[i, j, index] = 1.\n",
    "        print(\"{0} -> {1}\".format(word, results[i, j]))"
   ]
  },
  {
   "cell_type": "code",
   "execution_count": 29,
   "metadata": {
    "ExecuteTime": {
     "end_time": "2020-02-23T03:45:51.407375Z",
     "start_time": "2020-02-23T03:45:51.398054Z"
    }
   },
   "outputs": [
    {
     "name": "stdout",
     "output_type": "stream",
     "text": [
      "[[1, 3, 4, 5, 1, 2], [1, 2, 6, 7, 8]]\n",
      "[[0. 1. 1. ... 0. 0. 0.]\n",
      " [0. 1. 1. ... 0. 0. 0.]]\n",
      "{'the': 1, 'dog': 2, 'cat': 3, 'jump': 4, 'over': 5, 'ate': 6, 'my': 7, 'homework': 8}\n",
      "当前总共有8个不同单词\n"
     ]
    }
   ],
   "source": [
    "from tensorflow.keras.preprocessing.text import Tokenizer\n",
    "\n",
    "samples = ['The cat jump over the dog', 'The dog ate my homework']\n",
    "tokenizer = Tokenizer(num_words=1000)\n",
    "tokenizer.fit_on_texts(samples)\n",
    "\n",
    "sequences = tokenizer.texts_to_sequences(samples)\n",
    "print(sequences)\n",
    "one_hot_vecs = tokenizer.texts_to_matrix(samples, mode='binary')\n",
    "print(one_hot_vecs)\n",
    "\n",
    "word_index = tokenizer.word_index\n",
    "print(word_index)\n",
    "\n",
    "print(\"当前总共有%s个不同单词\"%len(word_index))"
   ]
  },
  {
   "cell_type": "code",
   "execution_count": 31,
   "metadata": {
    "ExecuteTime": {
     "end_time": "2020-02-23T03:53:59.746301Z",
     "start_time": "2020-02-23T03:53:59.737228Z"
    }
   },
   "outputs": [],
   "source": [
    "from tensorflow.keras.layers import Embedding\n",
    "# 单词总数和单词维度\n",
    "embedding_layer = Embedding(1000, 64)"
   ]
  },
  {
   "cell_type": "code",
   "execution_count": 44,
   "metadata": {
    "ExecuteTime": {
     "end_time": "2020-02-23T04:15:52.364046Z",
     "start_time": "2020-02-23T04:15:45.847753Z"
    }
   },
   "outputs": [],
   "source": [
    "from tensorflow.keras.datasets import imdb\n",
    "from tensorflow.keras import preprocessing\n",
    "\n",
    "# 词典长10000\n",
    "max_features = 10000\n",
    "# 向量化前20个单词\n",
    "max_len = 20\n",
    "\n",
    "(x_train, y_train), (x_test, y_test) = imdb.load_data(num_words=max_features)\n",
    "# print(x_train)\n",
    "x_train = preprocessing.sequence.pad_sequences(x_train, maxlen=max_len)\n",
    "x_test = preprocessing.sequence.pad_sequences(x_test, maxlen=max_len)"
   ]
  },
  {
   "cell_type": "code",
   "execution_count": 45,
   "metadata": {
    "ExecuteTime": {
     "end_time": "2020-02-23T04:16:09.746845Z",
     "start_time": "2020-02-23T04:16:09.742532Z"
    }
   },
   "outputs": [
    {
     "name": "stdout",
     "output_type": "stream",
     "text": [
      "[  65   16   38 1334   88   12   16  283    5   16 4472  113  103   32\n",
      "   15   16 5345   19  178   32]\n",
      "(25000, 20)\n"
     ]
    }
   ],
   "source": [
    "print(x_train[0])\n",
    "print(x_train.shape)"
   ]
  },
  {
   "cell_type": "code",
   "execution_count": 41,
   "metadata": {
    "ExecuteTime": {
     "end_time": "2020-02-23T04:14:44.558533Z",
     "start_time": "2020-02-23T04:14:44.199009Z"
    }
   },
   "outputs": [
    {
     "name": "stdout",
     "output_type": "stream",
     "text": [
      "Model: \"sequential_1\"\n",
      "_________________________________________________________________\n",
      "Layer (type)                 Output Shape              Param #   \n",
      "=================================================================\n",
      "embedding_1 (Embedding)      (None, 20, 8)             80000     \n",
      "_________________________________________________________________\n",
      "flatten (Flatten)            (None, 160)               0         \n",
      "_________________________________________________________________\n",
      "dense (Dense)                (None, 1)                 161       \n",
      "=================================================================\n",
      "Total params: 80,161\n",
      "Trainable params: 80,161\n",
      "Non-trainable params: 0\n",
      "_________________________________________________________________\n"
     ]
    }
   ],
   "source": [
    "from tensorflow.keras.models import Sequential\n",
    "from tensorflow.keras.layers import Flatten, Dense\n",
    "\n",
    "model = Sequential()\n",
    "#在网络中添加Embedding层，专门用于把单词转换成向量\n",
    "model.add(Embedding(10000, 8, input_length=max_len))\n",
    "\n",
    "'''\n",
    "我们给Embeding层输入长度不超过maxlen的单词向量，它为每个单词构造长度为8的向量\n",
    "它会输出格式为(samples, maxlen, 8)的结果,然后我们把它转换为(samples, maxlen*8)的\n",
    "二维格式\n",
    "'''\n",
    "model.add(Flatten())\n",
    "\n",
    "#我们在顶部加一层只含有1个神经元的网络层，把Embedding层的输出结果对应成两个类别\n",
    "model.add(Dense(1, activation='sigmoid'))\n",
    "model.compile(optimizer='rmsprop', loss='binary_crossentropy', metrics = ['acc'])\n",
    "model.summary()\n",
    "\n"
   ]
  },
  {
   "cell_type": "code",
   "execution_count": 46,
   "metadata": {
    "ExecuteTime": {
     "end_time": "2020-02-23T04:19:19.670144Z",
     "start_time": "2020-02-23T04:19:07.549492Z"
    }
   },
   "outputs": [
    {
     "name": "stdout",
     "output_type": "stream",
     "text": [
      "Train on 20000 samples, validate on 5000 samples\n",
      "Epoch 1/10\n",
      "20000/20000 [==============================] - 2s 84us/sample - loss: 0.6820 - acc: 0.5882 - val_loss: 0.6549 - val_acc: 0.6700\n",
      "Epoch 2/10\n",
      "20000/20000 [==============================] - 1s 64us/sample - loss: 0.5830 - acc: 0.7380 - val_loss: 0.5526 - val_acc: 0.7190\n",
      "Epoch 3/10\n",
      "20000/20000 [==============================] - 1s 59us/sample - loss: 0.4812 - acc: 0.7835 - val_loss: 0.5095 - val_acc: 0.7368\n",
      "Epoch 4/10\n",
      "20000/20000 [==============================] - 1s 54us/sample - loss: 0.4269 - acc: 0.8131 - val_loss: 0.4967 - val_acc: 0.7482\n",
      "Epoch 5/10\n",
      "20000/20000 [==============================] - 1s 59us/sample - loss: 0.3918 - acc: 0.8288 - val_loss: 0.4960 - val_acc: 0.7524\n",
      "Epoch 6/10\n",
      "20000/20000 [==============================] - 1s 57us/sample - loss: 0.3646 - acc: 0.8446 - val_loss: 0.4976 - val_acc: 0.7526\n",
      "Epoch 7/10\n",
      "20000/20000 [==============================] - 1s 55us/sample - loss: 0.3412 - acc: 0.8573 - val_loss: 0.5037 - val_acc: 0.7538\n",
      "Epoch 8/10\n",
      "20000/20000 [==============================] - 1s 59us/sample - loss: 0.3203 - acc: 0.8686 - val_loss: 0.5105 - val_acc: 0.7524\n",
      "Epoch 9/10\n",
      "20000/20000 [==============================] - 1s 55us/sample - loss: 0.3015 - acc: 0.8770 - val_loss: 0.5211 - val_acc: 0.7510\n",
      "Epoch 10/10\n",
      "20000/20000 [==============================] - 1s 55us/sample - loss: 0.2838 - acc: 0.8859 - val_loss: 0.5303 - val_acc: 0.7500\n"
     ]
    }
   ],
   "source": [
    "history = model.fit(x_train, y_train, epochs = 10, batch_size = 32, validation_split=0.2)"
   ]
  },
  {
   "cell_type": "code",
   "execution_count": 47,
   "metadata": {
    "ExecuteTime": {
     "end_time": "2020-02-23T04:20:06.963632Z",
     "start_time": "2020-02-23T04:20:05.071585Z"
    }
   },
   "outputs": [
    {
     "data": {
      "image/png": "[encoded data removed]",
      "text/plain": [
       "<Figure size 432x288 with 1 Axes>"
      ]
     },
     "metadata": {
      "needs_background": "light"
     },
     "output_type": "display_data"
    },
    {
     "data": {
      "image/png": "[encoded data removed]",
      "text/plain": [
       "<Figure size 432x288 with 1 Axes>"
      ]
     },
     "metadata": {
      "needs_background": "light"
     },
     "output_type": "display_data"
    }
   ],
   "source": [
    "import matplotlib.pyplot as plt\n",
    "\n",
    "acc = history.history['acc']\n",
    "val_acc = history.history['val_acc']\n",
    "loss = history.history['loss']\n",
    "val_loss = history.history['val_loss']\n",
    "\n",
    "epochs = range(1, len(acc) + 1)\n",
    "\n",
    "#绘制模型对训练数据和校验数据判断的准确率\n",
    "plt.plot(epochs, acc, 'bo', label = 'trainning acc')\n",
    "plt.plot(epochs, val_acc, 'b', label = 'validation acc')\n",
    "plt.title('Trainning and validation accuary')\n",
    "plt.legend()\n",
    "\n",
    "plt.show()\n",
    "plt.figure()\n",
    "\n",
    "#绘制模型对训练数据和校验数据判断的错误率\n",
    "plt.plot(epochs, loss, 'bo', label = 'Trainning loss')\n",
    "plt.plot(epochs, val_loss, 'b', label = 'Validation loss')\n",
    "plt.title('Trainning and validation loss')\n",
    "plt.legend()\n",
    "\n",
    "plt.show()"
   ]
  },
  {
   "cell_type": "code",
   "execution_count": null,
   "metadata": {},
   "outputs": [],
   "source": []
  }
 ],
 "metadata": {
  "kernelspec": {
   "display_name": "Python 3",
   "language": "python",
   "name": "python3"
  },
  "language_info": {
   "codemirror_mode": {
    "name": "ipython",
    "version": 3
   },
   "file_extension": ".py",
   "mimetype": "text/x-python",
   "name": "python",
   "nbconvert_exporter": "python",
   "pygments_lexer": "ipython3",
   "version": "3.7.3"
  }
 },
 "nbformat": 4,
 "nbformat_minor": 4
}
