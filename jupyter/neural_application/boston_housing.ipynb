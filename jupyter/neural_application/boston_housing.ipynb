{
 "cells": [
  {
   "cell_type": "code",
   "execution_count": 8,
   "metadata": {
    "ExecuteTime": {
     "end_time": "2020-02-16T04:52:14.560774Z",
     "start_time": "2020-02-16T04:52:14.556147Z"
    }
   },
   "outputs": [],
   "source": [
    "# 房价预测abs\n",
    "import tensorflow as tf\n",
    "import ssl\n",
    "import numpy as np\n",
    "import matplotlib.pyplot as plt\n",
    "\n",
    "ssl._create_default_https_context = ssl._create_unverified_context"
   ]
  },
  {
   "cell_type": "code",
   "execution_count": 9,
   "metadata": {
    "ExecuteTime": {
     "end_time": "2020-02-16T04:52:15.220764Z",
     "start_time": "2020-02-16T04:52:15.140327Z"
    }
   },
   "outputs": [],
   "source": [
    "(train_data, train_targets), (test_data, test_targets) = tf.keras.datasets.boston_housing.load_data()"
   ]
  },
  {
   "cell_type": "code",
   "execution_count": 57,
   "metadata": {
    "ExecuteTime": {
     "end_time": "2020-02-16T07:25:40.880854Z",
     "start_time": "2020-02-16T07:25:40.874439Z"
    }
   },
   "outputs": [
    {
     "name": "stdout",
     "output_type": "stream",
     "text": [
      "(404, 13)\n",
      "(102, 13)\n",
      "(404,)\n"
     ]
    },
    {
     "data": {
      "text/plain": [
       "404"
      ]
     },
     "execution_count": 57,
     "metadata": {},
     "output_type": "execute_result"
    }
   ],
   "source": [
    "print(train_data.shape)\n",
    "print(test_data.shape)\n",
    "print(train_targets.shape)\n",
    "len(train_data)\n",
    "# 数据量很少"
   ]
  },
  {
   "cell_type": "code",
   "execution_count": 14,
   "metadata": {
    "ExecuteTime": {
     "end_time": "2020-02-16T04:54:49.140265Z",
     "start_time": "2020-02-16T04:54:49.131352Z"
    }
   },
   "outputs": [
    {
     "name": "stdout",
     "output_type": "stream",
     "text": [
      "[  1.23247   0.        8.14      0.        0.538     6.142    91.7\n",
      "   3.9769    4.      307.       21.      396.9      18.72   ]\n"
     ]
    },
    {
     "data": {
      "text/plain": [
       "(404,)"
      ]
     },
     "execution_count": 14,
     "metadata": {},
     "output_type": "execute_result"
    }
   ],
   "source": [
    "print(train_data[0])\n",
    "# 房价中位数\n",
    "train_targets.shape"
   ]
  },
  {
   "cell_type": "code",
   "execution_count": 32,
   "metadata": {
    "ExecuteTime": {
     "end_time": "2020-02-16T06:00:18.991011Z",
     "start_time": "2020-02-16T06:00:18.983452Z"
    }
   },
   "outputs": [],
   "source": [
    "# 数据标准化\n",
    "mean = train_data.mean(axis=0)\n",
    "train_data -= mean\n",
    "std = train_data.std(axis=0)\n",
    "train_data /= std\n",
    "\n",
    "test_data -= mean\n",
    "test_data /= std"
   ]
  },
  {
   "cell_type": "code",
   "execution_count": 55,
   "metadata": {
    "ExecuteTime": {
     "end_time": "2020-02-16T07:21:10.059977Z",
     "start_time": "2020-02-16T07:21:10.053209Z"
    }
   },
   "outputs": [],
   "source": [
    "# 数据量小，不能构造过多的网络层\n",
    "def build_model():\n",
    "    model = tf.keras.models.Sequential()\n",
    "    model.add(tf.keras.layers.Dense(64, activation='relu', input_shape=(train_data.shape[1], )))\n",
    "    model.add(tf.keras.layers.Dense(64, activation='relu'))\n",
    "    model.add(tf.keras.layers.Dense(1))\n",
    "    model.compile(optimizer='rmsprop', loss='mse', metrics=['mae'])\n",
    "    return model\n"
   ]
  },
  {
   "cell_type": "code",
   "execution_count": 56,
   "metadata": {
    "ExecuteTime": {
     "end_time": "2020-02-16T07:23:43.812039Z",
     "start_time": "2020-02-16T07:21:10.623124Z"
    }
   },
   "outputs": [
    {
     "name": "stdout",
     "output_type": "stream",
     "text": [
      "processing fold # 0\n",
      "build_model\n",
      "evaluate..\n",
      "processing fold # 1\n",
      "build_model\n",
      "evaluate..\n",
      "processing fold # 2\n",
      "build_model\n",
      "evaluate..\n",
      "processing fold # 3\n",
      "build_model\n",
      "evaluate..\n",
      "[2.6731355, 2.8332748, 2.3887591, 2.522097]\n"
     ]
    }
   ],
   "source": [
    "# k-fold处理法，交叉, 数据量小的时候\n",
    "k = 4\n",
    "num_val_samples = len(train_data) // k\n",
    "num_epochs = 100\n",
    "all_socres = []\n",
    "\n",
    "for i in range(k):\n",
    "    print('processing fold #', i)\n",
    "    \n",
    "    val_data = train_data[i * num_val_samples : (i+1) * num_val_samples]\n",
    "    val_targets = train_targets[i * num_val_samples : (i+1) * num_val_samples]\n",
    "    \n",
    "    partial_train_data = np.concatenate(\n",
    "        (train_data[: i * num_val_samples],train_data[(i+1) * num_val_samples:]),\n",
    "        axis=0)\n",
    "    partial_train_targets = np.concatenate(\n",
    "        (train_targets[: i * num_val_samples], train_targets[(i+1) * num_val_samples:]),\n",
    "        axis=0) \n",
    "    \n",
    "    print(\"build_model\")\n",
    "    model = build_model()\n",
    "    model.fit(partial_train_data, partial_train_targets, epochs = num_epochs, \n",
    "             batch_size=1, verbose=0)\n",
    "    print(\"evaluate..\")\n",
    "    val_mse, val_mae = model.evaluate(val_data, val_targets, verbose=0)\n",
    "    all_socres.append(val_mae)\n",
    "    \n",
    "print(all_socres)\n",
    "                               "
   ]
  },
  {
   "cell_type": "code",
   "execution_count": 61,
   "metadata": {
    "ExecuteTime": {
     "end_time": "2020-02-16T07:37:01.246953Z",
     "start_time": "2020-02-16T07:36:27.052727Z"
    }
   },
   "outputs": [
    {
     "name": "stdout",
     "output_type": "stream",
     "text": [
      "processing fold # 0\n",
      "build model\n",
      "processing fold # 1\n",
      "build model\n",
      "processing fold # 2\n",
      "build model\n",
      "processing fold # 3\n",
      "build model\n"
     ]
    }
   ],
   "source": [
    "import numpy as np\n",
    "k = 4\n",
    "num_val_samples = len(train_data) // k #整数除法\n",
    "num_epochs = 200\n",
    "all_mae_histories = []\n",
    "\n",
    "for i in range(k):\n",
    "    print('processing fold #', i)\n",
    "    #依次把k分数据中的每一份作为校验数据集\n",
    "    val_data = train_data[i * num_val_samples : (i+1) * num_val_samples]\n",
    "    val_targets = train_targets[i* num_val_samples : (i+1) * num_val_samples]\n",
    "    \n",
    "    #把剩下的k-1分数据作为训练数据,如果第i分数据作为校验数据，那么把前i-1份和第i份之后的数据连起来\n",
    "    partial_train_data = np.concatenate([train_data[: i * num_val_samples], \n",
    "                                         train_data[(i+1) * num_val_samples:]], axis = 0)\n",
    "    partial_train_targets = np.concatenate([train_targets[: i * num_val_samples], \n",
    "                                            train_targets[(i+1) * num_val_samples: ]],\n",
    "                                          axis = 0)\n",
    "    print(\"build model\")\n",
    "    model = build_model()\n",
    "    #把分割好的训练数据和校验数据输入网络\n",
    "    history = model.fit(partial_train_data, partial_train_targets, \n",
    "              validation_data=(val_data, val_targets),\n",
    "              epochs = num_epochs, \n",
    "              batch_size = 16, verbose = 0)\n",
    "    mae_history = history.history['val_mae']\n",
    "    all_mae_histories.append(mae_history) "
   ]
  },
  {
   "cell_type": "code",
   "execution_count": 70,
   "metadata": {
    "ExecuteTime": {
     "end_time": "2020-02-16T07:46:24.697667Z",
     "start_time": "2020-02-16T07:46:24.684275Z"
    }
   },
   "outputs": [
    {
     "name": "stdout",
     "output_type": "stream",
     "text": [
      "4\n",
      "200\n",
      "200\n"
     ]
    }
   ],
   "source": [
    "print(len(all_mae_histories))\n",
    "print(len(all_mae_histories[0]))\n",
    "average_mae_history = [\n",
    "    np.mean([x[i] for x in all_mae_histories]) for i in range(num_epochs)\n",
    "]\n",
    "print(len(average_mae_history))\n"
   ]
  },
  {
   "cell_type": "code",
   "execution_count": 75,
   "metadata": {
    "ExecuteTime": {
     "end_time": "2020-02-16T08:01:48.167358Z",
     "start_time": "2020-02-16T08:01:48.161517Z"
    }
   },
   "outputs": [
    {
     "name": "stdout",
     "output_type": "stream",
     "text": [
      "19.179571\n"
     ]
    },
    {
     "data": {
      "text/plain": [
       "200"
      ]
     },
     "execution_count": 75,
     "metadata": {},
     "output_type": "execute_result"
    }
   ],
   "source": [
    "print(average_mae_history[0])\n",
    "len(average_mae_history)"
   ]
  },
  {
   "cell_type": "code",
   "execution_count": 76,
   "metadata": {
    "ExecuteTime": {
     "end_time": "2020-02-16T08:02:28.060450Z",
     "start_time": "2020-02-16T08:02:27.804749Z"
    }
   },
   "outputs": [
    {
     "data": {
      "image/png": "[encoded data removed]",
      "text/plain": [
       "<Figure size 432x288 with 1 Axes>"
      ]
     },
     "metadata": {
      "needs_background": "light"
     },
     "output_type": "display_data"
    }
   ],
   "source": [
    "from matplotlib import pyplot as plt\n",
    "\n",
    "plt.plot(range(1, len(average_mae_history) + 1), average_mae_history)\n",
    "plt.xlabel('Epochs')\n",
    "plt.ylabel('Validation MAE')\n",
    "plt.show()"
   ]
  },
  {
   "cell_type": "code",
   "execution_count": 95,
   "metadata": {
    "ExecuteTime": {
     "end_time": "2020-02-16T08:15:42.688595Z",
     "start_time": "2020-02-16T08:15:42.419494Z"
    }
   },
   "outputs": [
    {
     "data": {
      "image/png": "[encoded data removed]",
      "text/plain": [
       "<Figure size 432x288 with 1 Axes>"
      ]
     },
     "metadata": {
      "needs_background": "light"
     },
     "output_type": "display_data"
    }
   ],
   "source": [
    "def smooth_curve(points, factor=0.9):\n",
    "    \"\"\"指数滑动平均\"\"\"\n",
    "    smooth_points = []\n",
    "    for t in range(len(points)):\n",
    "        if t == 0:\n",
    "            smooth_points.append(points[t])\n",
    "        else:\n",
    "            new_point_t = factor * points[t] + (1 - factor) * smooth_points[t-1]\n",
    "            smooth_points.append(new_point_t)\n",
    "    return smooth_points\n",
    "\n",
    "smooth_history = smooth_curve(average_mae_history[15:], 0.9)\n",
    "plt.plot(range(1, len(smooth_history) + 1), smooth_history)\n",
    "plt.xlabel('Epochs')\n",
    "plt.ylabel('Validation MAE')\n",
    "plt.show()"
   ]
  },
  {
   "cell_type": "code",
   "execution_count": null,
   "metadata": {},
   "outputs": [],
   "source": []
  }
 ],
 "metadata": {
  "kernelspec": {
   "display_name": "Python 3",
   "language": "python",
   "name": "python3"
  },
  "language_info": {
   "codemirror_mode": {
    "name": "ipython",
    "version": 3
   },
   "file_extension": ".py",
   "mimetype": "text/x-python",
   "name": "python",
   "nbconvert_exporter": "python",
   "pygments_lexer": "ipython3",
   "version": "3.7.3"
  }
 },
 "nbformat": 4,
 "nbformat_minor": 4
}
