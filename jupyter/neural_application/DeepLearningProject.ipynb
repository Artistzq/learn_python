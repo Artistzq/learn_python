{
 "cells": [
  {
   "cell_type": "code",
   "execution_count": 79,
   "metadata": {
    "ExecuteTime": {
     "end_time": "2020-02-14T13:56:56.143075Z",
     "start_time": "2020-02-14T13:56:55.440739Z"
    }
   },
   "outputs": [],
   "source": [
    "import tensorflow as tf\n",
    "import ssl\n",
    "import numpy as np\n",
    "import matplotlib.pyplot as plt\n",
    "ssl._create_default_https_context = ssl._create_unverified_context"
   ]
  },
  {
   "cell_type": "code",
   "execution_count": 47,
   "metadata": {
    "ExecuteTime": {
     "end_time": "2020-02-14T13:16:47.750042Z",
     "start_time": "2020-02-14T13:16:40.889970Z"
    }
   },
   "outputs": [],
   "source": [
    "(train_data, train_labels), (test_data, test_labels) = tf.keras.datasets.imdb.load_data(num_words=10000)"
   ]
  },
  {
   "cell_type": "code",
   "execution_count": 52,
   "metadata": {
    "ExecuteTime": {
     "end_time": "2020-02-14T13:25:20.436874Z",
     "start_time": "2020-02-14T13:25:20.408232Z"
    }
   },
   "outputs": [
    {
     "name": "stdout",
     "output_type": "stream",
     "text": [
      "[1, 14, 22, 16, 43, 530, 973, 1622, 1385, 65, 458, 4468, 66, 3941, 4, 173, 36, 256, 5, 25, 100, 43, 838, 112, 50, 670, 2, 9, 35, 480, 284, 5, 150, 4, 172, 112, 167, 2, 336, 385, 39, 4, 172, 4536, 1111, 17, 546, 38, 13, 447, 4, 192, 50, 16, 6, 147, 2025, 19, 14, 22, 4, 1920, 4613, 469, 4, 22, 71, 87, 12, 16, 43, 530, 38, 76, 15, 13, 1247, 4, 22, 17, 515, 17, 12, 16, 626, 18, 2, 5, 62, 386, 12, 8, 316, 8, 106, 5, 4, 2223, 5244, 16, 480, 66, 3785, 33, 4, 130, 12, 16, 38, 619, 5, 25, 124, 51, 36, 135, 48, 25, 1415, 33, 6, 22, 12, 215, 28, 77, 52, 5, 14, 407, 16, 82, 2, 8, 4, 107, 117, 5952, 15, 256, 4, 2, 7, 3766, 5, 723, 36, 71, 43, 530, 476, 26, 400, 317, 46, 7, 4, 2, 1029, 13, 104, 88, 4, 381, 15, 297, 98, 32, 2071, 56, 26, 141, 6, 194, 7486, 18, 4, 226, 22, 21, 134, 476, 26, 480, 5, 144, 30, 5535, 18, 51, 36, 28, 224, 92, 25, 104, 4, 226, 65, 16, 38, 1334, 88, 12, 16, 283, 5, 16, 4472, 113, 103, 32, 15, 16, 5345, 19, 178, 32]\n",
      "1\n",
      "25000\n",
      "9995\n",
      "1\n",
      "[1, 2, 2, 2, 2, 2, 2, 4, 4, 4, 4, 4, 4, 4, 4, 4, 4, 4, 4, 4, 4, 4, 5, 5, 5, 5, 5, 5, 5, 5, 5, 6, 6, 6, 7, 7, 8, 8, 8, 9, 12, 12, 12, 12, 12, 12, 13, 13, 13, 14, 14, 14, 15, 15, 15, 15, 16, 16, 16, 16, 16, 16, 16, 16, 16, 16, 16, 17, 17, 17, 18, 18, 18, 19, 19, 21, 22, 22, 22, 22, 22, 22, 25, 25, 25, 25, 26, 26, 26, 28, 28, 30, 32, 32, 32, 33, 33, 35, 36, 36, 36, 36, 38, 38, 38, 38, 39, 43, 43, 43, 43, 46, 48, 50, 50, 51, 51, 52, 56, 62, 65, 65, 66, 66, 71, 71, 76, 77, 82, 87, 88, 88, 92, 98, 100, 103, 104, 104, 106, 107, 112, 112, 113, 117, 124, 130, 134, 135, 141, 144, 147, 150, 167, 172, 172, 173, 178, 192, 194, 215, 224, 226, 226, 256, 256, 283, 284, 297, 316, 317, 336, 381, 385, 386, 400, 407, 447, 458, 469, 476, 476, 480, 480, 480, 515, 530, 530, 530, 546, 619, 626, 670, 723, 838, 973, 1029, 1111, 1247, 1334, 1385, 1415, 1622, 1920, 2025, 2071, 2223, 3766, 3785, 3941, 4468, 4472, 4536, 4613, 5244, 5345, 5535, 5952, 7486]\n"
     ]
    }
   ],
   "source": [
    "print(train_data[0])\n",
    "print(train_labels[0])\n",
    "print(len(train_data))\n",
    "print(max(max(train_data)))\n",
    "print(min(train_data[0]))\n",
    "a = sorted(train_data[0])\n",
    "print(a)"
   ]
  },
  {
   "cell_type": "code",
   "execution_count": 49,
   "metadata": {
    "ExecuteTime": {
     "end_time": "2020-02-14T13:16:53.396273Z",
     "start_time": "2020-02-14T13:16:53.275864Z"
    },
    "scrolled": true
   },
   "outputs": [
    {
     "name": "stdout",
     "output_type": "stream",
     "text": [
      "<class 'dict'>\n",
      "<class 'dict_items'>\n",
      "? this film was just brilliant casting location scenery story direction everyone's really suited the part they played and you could just imagine being there robert ? is an amazing actor and now the same being director ? father came from the same scottish island as myself so i loved the fact there was a real connection with this film the witty remarks throughout the film were great it was just brilliant so much that i bought the film as soon as it was released for ? and would recommend it to everyone to watch and the fly fishing was amazing really cried at the end it was so sad and you know what they say if you cry at a film it must have been good and this definitely was also ? to the two little boy's that played the ? of norman and paul they were just brilliant children are often left out of the ? list i think because the stars that play them all grown up are such a big profile for the whole film but these children are amazing and should be praised for what they have done don't you think the whole story was so lovely because it was true and was someone's life after all that was shared with us all\n"
     ]
    }
   ],
   "source": [
    "word_index = tf.keras.datasets.imdb.get_word_index()\n",
    "print(type(word_index))\n",
    "print(type(word_index.items()))\n",
    "reverse_word_index = dict([(value, key) for (key, value) in word_index.items()])\n",
    "decode_review = ' '.join([reverse_word_index.get(i-3, '?') for i in train_data[0]])\n",
    "print(decode_review)"
   ]
  },
  {
   "cell_type": "code",
   "execution_count": 50,
   "metadata": {
    "ExecuteTime": {
     "end_time": "2020-02-14T13:16:58.453090Z",
     "start_time": "2020-02-14T13:16:54.558307Z"
    }
   },
   "outputs": [],
   "source": [
    "def vectorize_sequences(sequences, dimension=10000):\n",
    "    \"\"\"\n",
    "    one hot vector\n",
    "    sequences是包含所有评论的序列，每个评论（单词？）对应一个长度为10000的数组，矩阵的行数为评论数量，列对应于长度：10000\n",
    "    \"\"\"\n",
    "    results = np.zeros((len(sequences), dimension))\n",
    "    for i, sequence in enumerate(sequences):\n",
    "        results[i, sequence] = 1.\n",
    "    return results\n",
    "\n",
    "x_train = vectorize_sequences(train_data)\n",
    "x_test = vectorize_sequences(test_data)\n"
   ]
  },
  {
   "cell_type": "code",
   "execution_count": 120,
   "metadata": {
    "ExecuteTime": {
     "end_time": "2020-02-15T02:19:34.849667Z",
     "start_time": "2020-02-15T02:19:34.842676Z"
    }
   },
   "outputs": [
    {
     "name": "stdout",
     "output_type": "stream",
     "text": [
      "[0. 1. 1. ... 0. 0. 0.]\n",
      "(25000, 10000)\n",
      "[[0. 1. 1. ... 0. 0. 0.]\n",
      " [0. 1. 1. ... 0. 0. 0.]\n",
      " [0. 1. 1. ... 0. 0. 0.]\n",
      " ...\n",
      " [0. 1. 1. ... 0. 0. 0.]\n",
      " [0. 1. 1. ... 0. 0. 0.]\n",
      " [0. 1. 1. ... 0. 0. 0.]]\n",
      "1.0\n"
     ]
    }
   ],
   "source": [
    "print(x_train[0])\n",
    "print(x_train.shape)\n",
    "print(x_train)\n",
    "print(x_train[0][5535])"
   ]
  },
  {
   "cell_type": "code",
   "execution_count": 59,
   "metadata": {
    "ExecuteTime": {
     "end_time": "2020-02-14T13:29:08.666755Z",
     "start_time": "2020-02-14T13:29:08.660631Z"
    }
   },
   "outputs": [
    {
     "name": "stdout",
     "output_type": "stream",
     "text": [
      "[1. 0. 0. ... 0. 1. 0.]\n",
      "[0. 1. 1. ... 0. 0. 0.]\n"
     ]
    }
   ],
   "source": [
    "y_train = np.asarray((train_labels).astype('float32'))\n",
    "y_test = test_labels.astype(np.float32)\n",
    "print(y_train)\n",
    "print(y_test)"
   ]
  },
  {
   "cell_type": "code",
   "execution_count": 92,
   "metadata": {
    "ExecuteTime": {
     "end_time": "2020-02-14T14:13:46.059656Z",
     "start_time": "2020-02-14T14:13:46.013559Z"
    }
   },
   "outputs": [],
   "source": [
    "model = tf.keras.models.Sequential()\n",
    "# Dense一维全连接\n",
    "model.add(tf.keras.layers.Dense(16, activation='relu', input_shape=(10000, )))\n",
    "model.add(tf.keras.layers.Dense(16, activation='relu'))\n",
    "model.add(tf.keras.layers.Dense(1, activation='sigmoid'))"
   ]
  },
  {
   "cell_type": "code",
   "execution_count": 93,
   "metadata": {
    "ExecuteTime": {
     "end_time": "2020-02-14T14:13:46.613488Z",
     "start_time": "2020-02-14T14:13:46.563125Z"
    }
   },
   "outputs": [],
   "source": [
    "model.compile(optimizer='rmsprop', loss='binary_crossentropy', metrics=['accuracy'])"
   ]
  },
  {
   "cell_type": "code",
   "execution_count": 94,
   "metadata": {
    "ExecuteTime": {
     "end_time": "2020-02-14T14:14:20.524083Z",
     "start_time": "2020-02-14T14:13:56.619062Z"
    }
   },
   "outputs": [
    {
     "name": "stdout",
     "output_type": "stream",
     "text": [
      "Train on 15000 samples, validate on 10000 samples\n",
      "Epoch 1/20\n",
      "15000/15000 [==============================] - 2s 121us/sample - loss: 0.5332 - accuracy: 0.7711 - val_loss: 0.4007 - val_accuracy: 0.8565\n",
      "Epoch 2/20\n",
      "15000/15000 [==============================] - 1s 76us/sample - loss: 0.3101 - accuracy: 0.8977 - val_loss: 0.3386 - val_accuracy: 0.8601\n",
      "Epoch 3/20\n",
      "15000/15000 [==============================] - 1s 76us/sample - loss: 0.2184 - accuracy: 0.9285 - val_loss: 0.2822 - val_accuracy: 0.8854\n",
      "Epoch 4/20\n",
      "15000/15000 [==============================] - 1s 76us/sample - loss: 0.1714 - accuracy: 0.9427 - val_loss: 0.2766 - val_accuracy: 0.8890\n",
      "Epoch 5/20\n",
      "15000/15000 [==============================] - 1s 76us/sample - loss: 0.1380 - accuracy: 0.9558 - val_loss: 0.2836 - val_accuracy: 0.8886\n",
      "Epoch 6/20\n",
      "15000/15000 [==============================] - 1s 77us/sample - loss: 0.1158 - accuracy: 0.9634 - val_loss: 0.2970 - val_accuracy: 0.8855\n",
      "Epoch 7/20\n",
      "15000/15000 [==============================] - 1s 76us/sample - loss: 0.0927 - accuracy: 0.9731 - val_loss: 0.3373 - val_accuracy: 0.8777\n",
      "Epoch 8/20\n",
      "15000/15000 [==============================] - 1s 76us/sample - loss: 0.0765 - accuracy: 0.9785 - val_loss: 0.3622 - val_accuracy: 0.8775\n",
      "Epoch 9/20\n",
      "15000/15000 [==============================] - 1s 79us/sample - loss: 0.0641 - accuracy: 0.9835 - val_loss: 0.3691 - val_accuracy: 0.8798\n",
      "Epoch 10/20\n",
      "15000/15000 [==============================] - 1s 76us/sample - loss: 0.0481 - accuracy: 0.9899 - val_loss: 0.3935 - val_accuracy: 0.8732\n",
      "Epoch 11/20\n",
      "15000/15000 [==============================] - 1s 76us/sample - loss: 0.0420 - accuracy: 0.9893 - val_loss: 0.4159 - val_accuracy: 0.8748\n",
      "Epoch 12/20\n",
      "15000/15000 [==============================] - 1s 77us/sample - loss: 0.0322 - accuracy: 0.9931 - val_loss: 0.4477 - val_accuracy: 0.8721\n",
      "Epoch 13/20\n",
      "15000/15000 [==============================] - 1s 79us/sample - loss: 0.0250 - accuracy: 0.9947 - val_loss: 0.4801 - val_accuracy: 0.8716\n",
      "Epoch 14/20\n",
      "15000/15000 [==============================] - 1s 78us/sample - loss: 0.0219 - accuracy: 0.9961 - val_loss: 0.5073 - val_accuracy: 0.8726\n",
      "Epoch 15/20\n",
      "15000/15000 [==============================] - 1s 78us/sample - loss: 0.0116 - accuracy: 0.9993 - val_loss: 0.5887 - val_accuracy: 0.8650\n",
      "Epoch 16/20\n",
      "15000/15000 [==============================] - 1s 81us/sample - loss: 0.0129 - accuracy: 0.9983 - val_loss: 0.5806 - val_accuracy: 0.8709\n",
      "Epoch 17/20\n",
      "15000/15000 [==============================] - 1s 78us/sample - loss: 0.0105 - accuracy: 0.9981 - val_loss: 0.6174 - val_accuracy: 0.8682\n",
      "Epoch 18/20\n",
      "15000/15000 [==============================] - 1s 81us/sample - loss: 0.0046 - accuracy: 0.9998 - val_loss: 0.6675 - val_accuracy: 0.8665\n",
      "Epoch 19/20\n",
      "15000/15000 [==============================] - 1s 77us/sample - loss: 0.0102 - accuracy: 0.9976 - val_loss: 0.6887 - val_accuracy: 0.8662\n",
      "Epoch 20/20\n",
      "15000/15000 [==============================] - 1s 75us/sample - loss: 0.0025 - accuracy: 0.9999 - val_loss: 0.7132 - val_accuracy: 0.8662\n"
     ]
    }
   ],
   "source": [
    "x_val = x_train[:10000]     # data for valid\n",
    "partial_x_train = x_train[10000:]     # data for train\n",
    "\n",
    "y_val = y_train[:10000]    # labels for valid\n",
    "partial_y_train = y_train[10000:]    # labels for train\n",
    "\n",
    "history = model.fit(partial_x_train, partial_y_train, epochs=20, batch_size=512, validation_data = (x_val, y_val))"
   ]
  },
  {
   "cell_type": "code",
   "execution_count": 95,
   "metadata": {
    "ExecuteTime": {
     "end_time": "2020-02-14T14:14:23.219724Z",
     "start_time": "2020-02-14T14:14:23.215117Z"
    }
   },
   "outputs": [
    {
     "name": "stdout",
     "output_type": "stream",
     "text": [
      "dict_keys(['loss', 'accuracy', 'val_loss', 'val_accuracy'])\n"
     ]
    }
   ],
   "source": [
    "history_dict = history.history\n",
    "print(history_dict.keys())"
   ]
  },
  {
   "cell_type": "code",
   "execution_count": 97,
   "metadata": {
    "ExecuteTime": {
     "end_time": "2020-02-14T14:16:57.936366Z",
     "start_time": "2020-02-14T14:16:57.614827Z"
    }
   },
   "outputs": [
    {
     "data": {
      "image/png": "[encoded data removed]",
      "text/plain": [
       "<Figure size 432x288 with 1 Axes>"
      ]
     },
     "metadata": {
      "needs_background": "light"
     },
     "output_type": "display_data"
    }
   ],
   "source": [
    "acc = history.history['accuracy']\n",
    "val_acc = history.history['val_accuracy']\n",
    "loss = history.history['loss']\n",
    "val_loss = history.history['val_loss']\n",
    "\n",
    "epochs = range(1, len(acc) + 1)\n",
    "\n",
    "plt.plot(epochs, loss, 'bo', label='Training loss')\n",
    "plt.plot(epochs, val_loss, 'b', label='Validation loss')\n",
    "plt.title('Training and Validation loss')\n",
    "plt.xlabel('Epochs')\n",
    "plt.ylabel('Loss')\n",
    "plt.legend()\n",
    "plt.show()\n"
   ]
  },
  {
   "cell_type": "code",
   "execution_count": 139,
   "metadata": {
    "ExecuteTime": {
     "end_time": "2020-02-15T02:31:17.487258Z",
     "start_time": "2020-02-15T02:31:16.045878Z"
    }
   },
   "outputs": [
    {
     "name": "stdout",
     "output_type": "stream",
     "text": [
      "<class 'numpy.ndarray'>\n",
      "(10000,)\n",
      "(1, 10000)\n",
      "[0. 1. 1. ... 0. 0. 0.]\n",
      "[[0. 1. 1. ... 0. 0. 0.]]\n"
     ]
    },
    {
     "data": {
      "text/plain": [
       "array([[0]], dtype=int32)"
      ]
     },
     "execution_count": 139,
     "metadata": {},
     "output_type": "execute_result"
    }
   ],
   "source": [
    "model.predict(x_test).shape\n",
    "print(type(x_test))\n",
    "print(x_test[0].shape)\n",
    "a = x_test[0].reshape(1, 10000)\n",
    "print(a.shape)\n",
    "\n",
    "print(x_test[0])\n",
    "print(a)\n",
    "model.predict_classes(a)"
   ]
  }
 ],
 "metadata": {
  "kernelspec": {
   "display_name": "Python 3",
   "language": "python",
   "name": "python3"
  },
  "language_info": {
   "codemirror_mode": {
    "name": "ipython",
    "version": 3
   },
   "file_extension": ".py",
   "mimetype": "text/x-python",
   "name": "python",
   "nbconvert_exporter": "python",
   "pygments_lexer": "ipython3",
   "version": "3.7.3"
  }
 },
 "nbformat": 4,
 "nbformat_minor": 4
}