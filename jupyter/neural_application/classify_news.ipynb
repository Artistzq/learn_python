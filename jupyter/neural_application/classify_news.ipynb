{
 "cells": [
  {
   "cell_type": "code",
   "execution_count": 31,
   "metadata": {
    "ExecuteTime": {
     "end_time": "2020-02-15T10:50:07.561475Z",
     "start_time": "2020-02-15T10:50:07.557577Z"
    }
   },
   "outputs": [],
   "source": [
    "import tensorflow as tf\n",
    "import ssl\n",
    "import numpy as np\n",
    "ssl._create_default_https_context = ssl._create_unverified_context"
   ]
  },
  {
   "cell_type": "code",
   "execution_count": 2,
   "metadata": {
    "ExecuteTime": {
     "end_time": "2020-02-15T09:14:11.542894Z",
     "start_time": "2020-02-15T09:13:47.998676Z"
    }
   },
   "outputs": [
    {
     "name": "stdout",
     "output_type": "stream",
     "text": [
      "A local file was found, but it seems to be incomplete or outdated because the auto file hash does not match the original value of d6586e694ee56d7a4e65172e12b3e987c03096cb01eab99753921ef915959916 so we will re-download the data.\n",
      "Downloading data from https://storage.googleapis.com/tensorflow/tf-keras-datasets/reuters.npz\n",
      "2113536/2110848 [==============================] - 21s 10us/step\n"
     ]
    }
   ],
   "source": [
    "(train_data, train_label), (test_data, test_label) = tf.keras.datasets.reuters.load_data(num_words=10000)"
   ]
  },
  {
   "cell_type": "code",
   "execution_count": 27,
   "metadata": {
    "ExecuteTime": {
     "end_time": "2020-02-15T10:49:14.361239Z",
     "start_time": "2020-02-15T10:49:14.357045Z"
    }
   },
   "outputs": [
    {
     "name": "stdout",
     "output_type": "stream",
     "text": [
      "8982\n",
      "2246\n"
     ]
    }
   ],
   "source": [
    "print(len(train_data))\n",
    "print(len(test_data))"
   ]
  },
  {
   "cell_type": "code",
   "execution_count": 28,
   "metadata": {
    "ExecuteTime": {
     "end_time": "2020-02-15T10:49:17.151662Z",
     "start_time": "2020-02-15T10:49:17.145952Z"
    }
   },
   "outputs": [],
   "source": [
    "def decode(data):\n",
    "    word_index = tf.keras.datasets.reuters.get_word_index()\n",
    "    reversed_word_index = dict([(value, key) for (key, value) in word_index.items()])\n",
    "    news = ' '.join([reversed_word_index.get(index - 3, '?') for index in data])\n",
    "    return news"
   ]
  },
  {
   "cell_type": "code",
   "execution_count": 29,
   "metadata": {
    "ExecuteTime": {
     "end_time": "2020-02-15T10:49:29.466903Z",
     "start_time": "2020-02-15T10:49:29.432669Z"
    }
   },
   "outputs": [
    {
     "name": "stdout",
     "output_type": "stream",
     "text": [
      "[1, 2, 2, 8, 43, 10, 447, 5, 25, 207, 270, 5, 3095, 111, 16, 369, 186, 90, 67, 7, 89, 5, 19, 102, 6, 19, 124, 15, 90, 67, 84, 22, 482, 26, 7, 48, 4, 49, 8, 864, 39, 209, 154, 6, 151, 6, 83, 11, 15, 22, 155, 11, 15, 7, 48, 9, 4579, 1005, 504, 6, 258, 6, 272, 11, 15, 22, 134, 44, 11, 15, 16, 8, 197, 1245, 90, 67, 52, 29, 209, 30, 32, 132, 6, 109, 15, 17, 12]\n"
     ]
    },
    {
     "data": {
      "text/plain": [
       "'? ? ? said as a result of its december acquisition of space co it expects earnings per share in 1987 of 1 15 to 1 30 dlrs per share up from 70 cts in 1986 the company said pretax net should rise to nine to 10 mln dlrs from six mln dlrs in 1986 and rental operation revenues to 19 to 22 mln dlrs from 12 5 mln dlrs it said cash flow per share this year should be 2 50 to three dlrs reuter 3'"
      ]
     },
     "execution_count": 29,
     "metadata": {},
     "output_type": "execute_result"
    }
   ],
   "source": [
    "print(train_data[0])\n",
    "decode(train_data[0])"
   ]
  },
  {
   "cell_type": "code",
   "execution_count": 30,
   "metadata": {
    "ExecuteTime": {
     "end_time": "2020-02-15T10:49:32.300691Z",
     "start_time": "2020-02-15T10:49:32.267030Z"
    }
   },
   "outputs": [
    {
     "data": {
      "text/plain": [
       "'? ? corp said it reached an agreement in principal covering the acquisition of the company by privately held ? financial corp the agreement calls for ? to make a self tender offer for all of its outstanding stock at a price of 22 dlrs per share in cash ? headquartered in los angeles develops manages and ? real estate ? also said reuter 3'"
      ]
     },
     "execution_count": 30,
     "metadata": {},
     "output_type": "execute_result"
    }
   ],
   "source": [
    "decode(train_data[12])"
   ]
  },
  {
   "cell_type": "code",
   "execution_count": 56,
   "metadata": {
    "ExecuteTime": {
     "end_time": "2020-02-15T11:23:23.366822Z",
     "start_time": "2020-02-15T11:23:22.752611Z"
    }
   },
   "outputs": [
    {
     "name": "stdout",
     "output_type": "stream",
     "text": [
      "[0. 1. 1. ... 0. 0. 0.]\n",
      "[ 3 10  1 ...  3  3 24]\n"
     ]
    }
   ],
   "source": [
    "def vectorize_sequences(sequences, dimension=10000):\n",
    "    matrix = np.zeros((len(sequences), dimension))\n",
    "    for i, sequence in enumerate(sequences):\n",
    "        matrix[i, sequence] = 1\n",
    "    return matrix\n",
    "\n",
    "vector_train = vectorize_sequences(train_data)\n",
    "vector_test = vectorize_sequences(test_data)\n",
    "print(vector_train[0])\n",
    "print(test_label)"
   ]
  },
  {
   "cell_type": "code",
   "execution_count": 50,
   "metadata": {
    "ExecuteTime": {
     "end_time": "2020-02-15T11:11:34.535664Z",
     "start_time": "2020-02-15T11:11:34.528635Z"
    }
   },
   "outputs": [
    {
     "name": "stdout",
     "output_type": "stream",
     "text": [
      "[0. 0. 0. 1. 0. 0. 0. 0. 0. 0. 0. 0. 0. 0. 0. 0. 0. 0. 0. 0. 0. 0. 0. 0.\n",
      " 0. 0. 0. 0. 0. 0. 0. 0. 0. 0. 0. 0. 0. 0. 0. 0. 0. 0. 0. 0. 0. 0.]\n",
      "<class 'numpy.ndarray'>\n"
     ]
    }
   ],
   "source": [
    "one_hot_train_labels = tf.keras.utils.to_categorical(train_label)\n",
    "print(one_hot_train_labels[0])\n",
    "one_hot_test_labels = tf.keras.utils.to_categorical(test_label)\n",
    "print(type(one_hot_test_labels))"
   ]
  },
  {
   "cell_type": "code",
   "execution_count": 116,
   "metadata": {
    "ExecuteTime": {
     "end_time": "2020-02-15T11:46:10.353171Z",
     "start_time": "2020-02-15T11:46:10.276612Z"
    }
   },
   "outputs": [],
   "source": [
    "model = tf.keras.models.Sequential()\n",
    "model.add(tf.keras.layers.Dense(64, activation='relu', input_shape=(10000, )))\n",
    "# 中间层最好比输出层大，否则向量丢失特征\n",
    "model.add(tf.keras.layers.Dense(64, activation='relu'))\n",
    "# 当结果是输出多个分类的概率时，用softmax激活函数，它将为46个分类提供不同的可能性概率值\n",
    "model.add(tf.keras.layers.Dense(46, activation='softmax'))\n",
    "model.compile(optimizer='rmsprop', loss='categorical_crossentropy', metrics=['accuracy'])"
   ]
  },
  {
   "cell_type": "code",
   "execution_count": 117,
   "metadata": {
    "ExecuteTime": {
     "end_time": "2020-02-15T11:46:10.893107Z",
     "start_time": "2020-02-15T11:46:10.433716Z"
    }
   },
   "outputs": [],
   "source": [
    "val_data = vectorize_sequences(test_data)\n",
    "val_label = tf.keras.utils.to_categorical(test_label)\n",
    "\n",
    "fit_data = vectorize_sequences(train_data)\n",
    "fit_label = tf.keras.utils.to_categorical(train_label)"
   ]
  },
  {
   "cell_type": "code",
   "execution_count": 118,
   "metadata": {
    "ExecuteTime": {
     "end_time": "2020-02-15T11:46:30.978013Z",
     "start_time": "2020-02-15T11:46:12.414232Z"
    }
   },
   "outputs": [
    {
     "name": "stdout",
     "output_type": "stream",
     "text": [
      "Train on 8982 samples, validate on 2246 samples\n",
      "Epoch 1/20\n",
      "8982/8982 [==============================] - 2s 208us/sample - loss: 3.1680 - accuracy: 0.4177 - val_loss: 2.3245 - val_accuracy: 0.5690\n",
      "Epoch 2/20\n",
      "8982/8982 [==============================] - 1s 135us/sample - loss: 1.9360 - accuracy: 0.6200 - val_loss: 1.7025 - val_accuracy: 0.6411\n",
      "Epoch 3/20\n",
      "8982/8982 [==============================] - 1s 100us/sample - loss: 1.4473 - accuracy: 0.6983 - val_loss: 1.4441 - val_accuracy: 0.6915\n",
      "Epoch 4/20\n",
      "8982/8982 [==============================] - 1s 94us/sample - loss: 1.1827 - accuracy: 0.7463 - val_loss: 1.3092 - val_accuracy: 0.7133\n",
      "Epoch 5/20\n",
      "8982/8982 [==============================] - 1s 95us/sample - loss: 1.0163 - accuracy: 0.7880 - val_loss: 1.2140 - val_accuracy: 0.7351\n",
      "Epoch 6/20\n",
      "8982/8982 [==============================] - 1s 94us/sample - loss: 0.8740 - accuracy: 0.8161 - val_loss: 1.1400 - val_accuracy: 0.7524\n",
      "Epoch 7/20\n",
      "8982/8982 [==============================] - 1s 95us/sample - loss: 0.7623 - accuracy: 0.8426 - val_loss: 1.0883 - val_accuracy: 0.7609\n",
      "Epoch 8/20\n",
      "8982/8982 [==============================] - 1s 94us/sample - loss: 0.6700 - accuracy: 0.8601 - val_loss: 1.0499 - val_accuracy: 0.7698\n",
      "Epoch 9/20\n",
      "8982/8982 [==============================] - 1s 94us/sample - loss: 0.5780 - accuracy: 0.8805 - val_loss: 1.0157 - val_accuracy: 0.7711\n",
      "Epoch 10/20\n",
      "8982/8982 [==============================] - 1s 95us/sample - loss: 0.5048 - accuracy: 0.8979 - val_loss: 0.9989 - val_accuracy: 0.7778\n",
      "Epoch 11/20\n",
      "8982/8982 [==============================] - 1s 96us/sample - loss: 0.4533 - accuracy: 0.9054 - val_loss: 0.9600 - val_accuracy: 0.7890\n",
      "Epoch 12/20\n",
      "8982/8982 [==============================] - 1s 94us/sample - loss: 0.3855 - accuracy: 0.9188 - val_loss: 0.9454 - val_accuracy: 0.7872\n",
      "Epoch 13/20\n",
      "8982/8982 [==============================] - 1s 93us/sample - loss: 0.3497 - accuracy: 0.9266 - val_loss: 0.9589 - val_accuracy: 0.7814\n",
      "Epoch 14/20\n",
      "8982/8982 [==============================] - 1s 99us/sample - loss: 0.3025 - accuracy: 0.9338 - val_loss: 0.9380 - val_accuracy: 0.7916\n",
      "Epoch 15/20\n",
      "8982/8982 [==============================] - 1s 96us/sample - loss: 0.2703 - accuracy: 0.9422 - val_loss: 0.9519 - val_accuracy: 0.7947\n",
      "Epoch 16/20\n",
      "8982/8982 [==============================] - 1s 97us/sample - loss: 0.2478 - accuracy: 0.9456 - val_loss: 0.9449 - val_accuracy: 0.7961\n",
      "Epoch 17/20\n",
      "8982/8982 [==============================] - 1s 94us/sample - loss: 0.2178 - accuracy: 0.9475 - val_loss: 0.9541 - val_accuracy: 0.7965\n",
      "Epoch 18/20\n",
      "8982/8982 [==============================] - 1s 99us/sample - loss: 0.2012 - accuracy: 0.9490 - val_loss: 0.9640 - val_accuracy: 0.8019\n",
      "Epoch 19/20\n",
      "8982/8982 [==============================] - 1s 96us/sample - loss: 0.1835 - accuracy: 0.9522 - val_loss: 0.9724 - val_accuracy: 0.8028\n",
      "Epoch 20/20\n",
      "8982/8982 [==============================] - 1s 89us/sample - loss: 0.1733 - accuracy: 0.9519 - val_loss: 0.9933 - val_accuracy: 0.8010\n"
     ]
    }
   ],
   "source": [
    "history = model.fit(fit_data, fit_label, epochs=20, batch_size=1300, validation_data=(val_data, val_label))"
   ]
  },
  {
   "cell_type": "code",
   "execution_count": 119,
   "metadata": {
    "ExecuteTime": {
     "end_time": "2020-02-15T11:46:37.528442Z",
     "start_time": "2020-02-15T11:46:37.523803Z"
    }
   },
   "outputs": [
    {
     "data": {
      "text/plain": [
       "dict_keys(['loss', 'accuracy', 'val_loss', 'val_accuracy'])"
      ]
     },
     "execution_count": 119,
     "metadata": {},
     "output_type": "execute_result"
    }
   ],
   "source": [
    "history.history.keys()"
   ]
  },
  {
   "cell_type": "code",
   "execution_count": 120,
   "metadata": {
    "ExecuteTime": {
     "end_time": "2020-02-15T11:46:38.472400Z",
     "start_time": "2020-02-15T11:46:38.176172Z"
    }
   },
   "outputs": [
    {
     "data": {
      "image/png": "[encoded data removed]",
      "text/plain": [
       "<Figure size 432x288 with 1 Axes>"
      ]
     },
     "metadata": {
      "needs_background": "light"
     },
     "output_type": "display_data"
    }
   ],
   "source": [
    "import matplotlib.pyplot as plt\n",
    "loss = history.history['loss']\n",
    "accuracy = history.history['accuracy']\n",
    "val_loss = history.history['val_loss']\n",
    "val_accuracy = history.history['val_accuracy']\n",
    "\n",
    "epochs = range(1, len(loss) + 1)\n",
    "\n",
    "plt.plot(epochs, loss, 'r', label='Training loss')\n",
    "plt.plot(epochs, val_loss, 'b', label='Validation loss')\n",
    "plt.xlabel('Epochs')\n",
    "plt.ylabel('Loss')\n",
    "plt.legend()\n",
    "\n",
    "plt.show()"
   ]
  },
  {
   "cell_type": "code",
   "execution_count": 140,
   "metadata": {
    "ExecuteTime": {
     "end_time": "2020-02-15T12:00:37.700838Z",
     "start_time": "2020-02-15T12:00:11.727635Z"
    }
   },
   "outputs": [
    {
     "name": "stdout",
     "output_type": "stream",
     "text": [
      "Train on 8982 samples, validate on 2246 samples\n",
      "Epoch 1/20\n",
      "8982/8982 [==============================] - 3s 283us/sample - loss: 2.8947 - accuracy: 0.4939 - val_loss: 1.9625 - val_accuracy: 0.6394\n",
      "Epoch 2/20\n",
      "8982/8982 [==============================] - 1s 151us/sample - loss: 1.5641 - accuracy: 0.6883 - val_loss: 1.4520 - val_accuracy: 0.6848\n",
      "Epoch 3/20\n",
      "8982/8982 [==============================] - 1s 128us/sample - loss: 1.1383 - accuracy: 0.7590 - val_loss: 1.2756 - val_accuracy: 0.7199\n",
      "Epoch 4/20\n",
      "8982/8982 [==============================] - 1s 128us/sample - loss: 0.9039 - accuracy: 0.8115 - val_loss: 1.1546 - val_accuracy: 0.7409\n",
      "Epoch 5/20\n",
      "8982/8982 [==============================] - 1s 126us/sample - loss: 0.7373 - accuracy: 0.8473 - val_loss: 1.0638 - val_accuracy: 0.7707\n",
      "Epoch 6/20\n",
      "8982/8982 [==============================] - 1s 127us/sample - loss: 0.6048 - accuracy: 0.8775 - val_loss: 1.0338 - val_accuracy: 0.7743\n",
      "Epoch 7/20\n",
      "8982/8982 [==============================] - 1s 128us/sample - loss: 0.5005 - accuracy: 0.8989 - val_loss: 0.9845 - val_accuracy: 0.7792\n",
      "Epoch 8/20\n",
      "8982/8982 [==============================] - 1s 133us/sample - loss: 0.4162 - accuracy: 0.9157 - val_loss: 0.9625 - val_accuracy: 0.7863\n",
      "Epoch 9/20\n",
      "8982/8982 [==============================] - 1s 137us/sample - loss: 0.3592 - accuracy: 0.9245 - val_loss: 0.9457 - val_accuracy: 0.7894\n",
      "Epoch 10/20\n",
      "8982/8982 [==============================] - 1s 136us/sample - loss: 0.2931 - accuracy: 0.9381 - val_loss: 0.9514 - val_accuracy: 0.7961\n",
      "Epoch 11/20\n",
      "8982/8982 [==============================] - 1s 127us/sample - loss: 0.2521 - accuracy: 0.9417 - val_loss: 0.9945 - val_accuracy: 0.7885\n",
      "Epoch 12/20\n",
      "8982/8982 [==============================] - 1s 129us/sample - loss: 0.2314 - accuracy: 0.9451 - val_loss: 0.9500 - val_accuracy: 0.7947\n",
      "Epoch 13/20\n",
      "8982/8982 [==============================] - 1s 128us/sample - loss: 0.1928 - accuracy: 0.9503 - val_loss: 0.9893 - val_accuracy: 0.7930\n",
      "Epoch 14/20\n",
      "8982/8982 [==============================] - 1s 133us/sample - loss: 0.1842 - accuracy: 0.9528 - val_loss: 1.0197 - val_accuracy: 0.7961\n",
      "Epoch 15/20\n",
      "8982/8982 [==============================] - 1s 130us/sample - loss: 0.1647 - accuracy: 0.9551 - val_loss: 0.9839 - val_accuracy: 0.8001\n",
      "Epoch 16/20\n",
      "8982/8982 [==============================] - 1s 132us/sample - loss: 0.1482 - accuracy: 0.9545 - val_loss: 1.0274 - val_accuracy: 0.7947\n",
      "Epoch 17/20\n",
      "8982/8982 [==============================] - 1s 143us/sample - loss: 0.1413 - accuracy: 0.9575 - val_loss: 1.0388 - val_accuracy: 0.7952\n",
      "Epoch 18/20\n",
      "8982/8982 [==============================] - 1s 134us/sample - loss: 0.1319 - accuracy: 0.9574 - val_loss: 1.0706 - val_accuracy: 0.7903\n",
      "Epoch 19/20\n",
      "8982/8982 [==============================] - 1s 131us/sample - loss: 0.1293 - accuracy: 0.9590 - val_loss: 1.0618 - val_accuracy: 0.7979\n",
      "Epoch 20/20\n",
      "8982/8982 [==============================] - 1s 123us/sample - loss: 0.1229 - accuracy: 0.9574 - val_loss: 1.0919 - val_accuracy: 0.7885\n"
     ]
    },
    {
     "data": {
      "image/png": "[encoded data removed]",
      "text/plain": [
       "<Figure size 432x288 with 1 Axes>"
      ]
     },
     "metadata": {
      "needs_background": "light"
     },
     "output_type": "display_data"
    }
   ],
   "source": [
    "model = tf.keras.models.Sequential()\n",
    "model.add(tf.keras.layers.Dense(128, activation='relu', input_shape=(10000, )))\n",
    "model.add(tf.keras.layers.Dense(64, activation='relu'))\n",
    "# 当结果是输出多个分类的概率时，用softmax激活函数，它将为46个分类提供不同的可能性概率值\n",
    "model.add(tf.keras.layers.Dense(46, activation='softmax'))\n",
    "model.compile(optimizer='rmsprop', loss='categorical_crossentropy', metrics=['accuracy'])\n",
    "\n",
    "val_data = vectorize_sequences(test_data)\n",
    "val_label = tf.keras.utils.to_categorical(test_label)\n",
    "\n",
    "fit_data = vectorize_sequences(train_data)\n",
    "fit_label = tf.keras.utils.to_categorical(train_label)\n",
    "\n",
    "history = model.fit(fit_data, fit_label, epochs=20, batch_size=1200, validation_data=(val_data, val_label))\n",
    "\n",
    "import matplotlib.pyplot as plt\n",
    "loss = history.history['loss']\n",
    "accuracy = history.history['accuracy']\n",
    "val_loss = history.history['val_loss']\n",
    "val_accuracy = history.history['val_accuracy']\n",
    "\n",
    "epochs = range(1, len(loss) + 1)\n",
    "\n",
    "plt.plot(epochs, loss, 'r', label='Training loss')\n",
    "plt.plot(epochs, val_loss, 'b', label='Validation loss')\n",
    "plt.xlabel('Epochs')\n",
    "plt.ylabel('Loss')\n",
    "plt.legend()\n",
    "\n",
    "plt.show()"
   ]
  },
  {
   "cell_type": "code",
   "execution_count": 141,
   "metadata": {
    "ExecuteTime": {
     "end_time": "2020-02-15T12:00:39.974054Z",
     "start_time": "2020-02-15T12:00:39.661374Z"
    }
   },
   "outputs": [
    {
     "name": "stdout",
     "output_type": "stream",
     "text": [
      "2246/2246 [==============================] - 0s 124us/sample - loss: 1.0919 - accuracy: 0.7885\n",
      "[1.0919483300308404, 0.7885129]\n"
     ]
    }
   ],
   "source": [
    "results = model.evaluate(val_data, val_label)\n",
    "print(results)"
   ]
  },
  {
   "cell_type": "code",
   "execution_count": 142,
   "metadata": {
    "ExecuteTime": {
     "end_time": "2020-02-15T12:00:40.970805Z",
     "start_time": "2020-02-15T12:00:40.693945Z"
    }
   },
   "outputs": [
    {
     "name": "stdout",
     "output_type": "stream",
     "text": [
      "[1.37143041e-04 1.47302961e-03 8.65329857e-05 1.13496473e-02\n",
      " 9.75960076e-01 1.44334670e-04 1.89176193e-04 4.09994798e-04\n",
      " 1.49397785e-03 1.08415748e-04 6.39654463e-04 1.85595054e-04\n",
      " 7.49624041e-06 2.82586319e-04 2.32536724e-04 3.66492131e-05\n",
      " 2.23687594e-03 8.32241494e-05 7.35242502e-05 9.73310904e-04\n",
      " 1.54540990e-03 4.96409848e-05 1.34030470e-05 2.59631517e-04\n",
      " 4.05810642e-05 6.07223010e-05 1.56046844e-05 7.46616424e-05\n",
      " 7.26813159e-05 2.66720657e-04 6.40792859e-05 2.81679422e-05\n",
      " 1.06004132e-04 1.03839579e-04 3.95835850e-05 5.97609942e-05\n",
      " 1.15085277e-04 6.33253730e-05 1.27939798e-04 1.72853936e-04\n",
      " 4.86399076e-05 1.03580445e-04 3.66903041e-05 3.39956605e-05\n",
      " 5.92158267e-06 3.87950073e-04]\n",
      "[0. 0. 0. 0. 1. 0. 0. 0. 0. 0. 0. 0. 0. 0. 0. 0. 0. 0. 0. 0. 0. 0. 0. 0.\n",
      " 0. 0. 0. 0. 0. 0. 0. 0. 0. 0. 0. 0. 0. 0. 0. 0. 0. 0. 0. 0. 0. 0.]\n",
      "1.0000004\n",
      "4\n",
      "[0. 0. 0. 0. 1. 0. 0. 0. 0. 0. 0. 0. 0. 0. 0. 0. 0. 0. 0. 0. 0. 0. 0. 0.\n",
      " 0. 0. 0. 0. 0. 0. 0. 0. 0. 0. 0. 0. 0. 0. 0. 0. 0. 0. 0. 0. 0. 0.]\n"
     ]
    }
   ],
   "source": [
    "predictions = model.predict(val_data)\n",
    "index = 1233\n",
    "print(predictions[index])\n",
    "print(np.around(predictions[index]))\n",
    "print(np.sum(predictions[index]))\n",
    "print(np.argmax(predictions[index]))\n",
    "print(val_label[index])"
   ]
  },
  {
   "cell_type": "code",
   "execution_count": null,
   "metadata": {},
   "outputs": [],
   "source": []
  }
 ],
 "metadata": {
  "kernelspec": {
   "display_name": "Python 3",
   "language": "python",
   "name": "python3"
  },
  "language_info": {
   "codemirror_mode": {
    "name": "ipython",
    "version": 3
   },
   "file_extension": ".py",
   "mimetype": "text/x-python",
   "name": "python",
   "nbconvert_exporter": "python",
   "pygments_lexer": "ipython3",
   "version": "3.7.3"
  }
 },
 "nbformat": 4,
 "nbformat_minor": 4
}
