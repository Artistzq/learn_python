{
 "cells": [
  {
   "cell_type": "code",
   "execution_count": null,
   "metadata": {
    "ExecuteTime": {
     "end_time": "2020-02-26T04:07:52.491475Z",
     "start_time": "2020-02-26T04:07:33.579383Z"
    }
   },
   "outputs": [],
   "source": [
    "import tensorflow"
   ]
  },
  {
   "cell_type": "code",
   "execution_count": null,
   "metadata": {
    "ExecuteTime": {
     "end_time": "2020-02-26T04:54:59.515483Z",
     "start_time": "2020-02-26T04:54:57.443946Z"
    }
   },
   "outputs": [],
   "source": [
    "import numpy as np\n",
    "\n",
    "timesteps = 100  #总共100条训练数据\n",
    "input_features = 32 #每条数据有32个参数\n",
    "output_features = 64 #网络读取数据后输出含有64个参数的向量\n",
    "\n",
    "inputs = np.random.random((timesteps, input_features))\n",
    "state_t = np.zeros((output_features))  #先把状态参数初始化为0\n",
    "\n",
    "W = np.random.random((input_features, output_features))\n",
    "U = np.random.random((output_features, output_features))\n",
    "b = np.random.random((output_features,))\n",
    "\n",
    "successive_outputs = []\n",
    "for input_t in inputs:\n",
    "    #处理输入数据\n",
    "    output_t = np.tanh(np.dot(W, input_t) + np.dot(U, state_t) + b)\n",
    "    #记录当前数据处理结果\n",
    "    successive_outputs.append(output_t)\n",
    "    #更新状态变量以便参与下次数据处理\n",
    "    state_t = output_t\n",
    "    \n",
    "final_output_sequence = np.concatenate(successive_outputs, axis = 0)"
   ]
  },
  {
   "cell_type": "code",
   "execution_count": 7,
   "metadata": {
    "ExecuteTime": {
     "end_time": "2020-02-26T05:02:08.463535Z",
     "start_time": "2020-02-26T05:02:08.385326Z"
    }
   },
   "outputs": [
    {
     "name": "stdout",
     "output_type": "stream",
     "text": [
      "Model: \"sequential_4\"\n",
      "_________________________________________________________________\n",
      "Layer (type)                 Output Shape              Param #   \n",
      "=================================================================\n",
      "embedding_4 (Embedding)      (None, None, 32)          320000    \n",
      "_________________________________________________________________\n",
      "simple_rnn_3 (SimpleRNN)     (None, None, 32)          2080      \n",
      "=================================================================\n",
      "Total params: 322,080\n",
      "Trainable params: 322,080\n",
      "Non-trainable params: 0\n",
      "_________________________________________________________________\n"
     ]
    }
   ],
   "source": [
    "import tensorflow as tf\n",
    "\n",
    "model = tf.keras.models.Sequential()\n",
    "model.add(tf.keras.layers.Embedding(10000, 32))\n",
    "model.add(tf.keras.layers.SimpleRNN(32, return_sequences=True))\n",
    "model.summary()"
   ]
  },
  {
   "cell_type": "code",
   "execution_count": 9,
   "metadata": {
    "ExecuteTime": {
     "end_time": "2020-02-26T06:04:30.732001Z",
     "start_time": "2020-02-26T06:04:22.810666Z"
    }
   },
   "outputs": [
    {
     "name": "stdout",
     "output_type": "stream",
     "text": [
      "Loading data....\n",
      "25000 train sequence\n",
      "25000 test sequence\n",
      "(25000,) train shape\n",
      "Pad sequences (samples x time)\n",
      "input_train shape: (25000, 500)\n",
      "input_test shape:  (25000, 500)\n"
     ]
    }
   ],
   "source": [
    "max_features = 10000 # 常用的10000词\n",
    "maxlen = 500 # 每条数据最长500\n",
    "batch_size = 32\n",
    "\n",
    "print(\"Loading data....\")\n",
    "(input_train, y_train), (input_test, y_test) = tf.keras.datasets.imdb.load_data(num_words=max_features)\n",
    "print(len(input_train), 'train sequence')\n",
    "print(len(input_test), 'test sequence')\n",
    "print(input_train.shape, 'train shape')\n",
    "\n",
    "print('Pad sequences (samples x time)')\n",
    "input_train = tf.keras.preprocessing.sequence.pad_sequences(input_train, maxlen = maxlen)\n",
    "input_test = tf.keras.preprocessing.sequence.pad_sequences(input_test, maxlen=maxlen)\n",
    "print('input_train shape:', input_train.shape)\n",
    "print('input_test shape: ', input_test.shape)"
   ]
  },
  {
   "cell_type": "code",
   "execution_count": 10,
   "metadata": {
    "ExecuteTime": {
     "end_time": "2020-02-26T06:16:01.290932Z",
     "start_time": "2020-02-26T06:11:36.810080Z"
    }
   },
   "outputs": [
    {
     "name": "stdout",
     "output_type": "stream",
     "text": [
      "Train on 20000 samples, validate on 5000 samples\n",
      "Epoch 1/10\n",
      "20000/20000 [==============================] - 29s 1ms/sample - loss: 0.5771 - acc: 0.6916 - val_loss: 0.4137 - val_acc: 0.8236\n",
      "Epoch 2/10\n",
      "20000/20000 [==============================] - 26s 1ms/sample - loss: 0.3664 - acc: 0.8456 - val_loss: 0.3665 - val_acc: 0.8424\n",
      "Epoch 3/10\n",
      "20000/20000 [==============================] - 26s 1ms/sample - loss: 0.2653 - acc: 0.8958 - val_loss: 0.3450 - val_acc: 0.8596\n",
      "Epoch 4/10\n",
      "20000/20000 [==============================] - 26s 1ms/sample - loss: 0.2011 - acc: 0.9244 - val_loss: 0.3477 - val_acc: 0.8596\n",
      "Epoch 5/10\n",
      "20000/20000 [==============================] - 26s 1ms/sample - loss: 0.1440 - acc: 0.9493 - val_loss: 0.4305 - val_acc: 0.8346\n",
      "Epoch 6/10\n",
      "20000/20000 [==============================] - 26s 1ms/sample - loss: 0.0942 - acc: 0.9682 - val_loss: 0.4224 - val_acc: 0.8568\n",
      "Epoch 7/10\n",
      "20000/20000 [==============================] - 26s 1ms/sample - loss: 0.0622 - acc: 0.9805 - val_loss: 0.6125 - val_acc: 0.7624\n",
      "Epoch 8/10\n",
      "20000/20000 [==============================] - 27s 1ms/sample - loss: 0.0424 - acc: 0.9862 - val_loss: 0.5725 - val_acc: 0.8552\n",
      "Epoch 9/10\n",
      "20000/20000 [==============================] - 27s 1ms/sample - loss: 0.0279 - acc: 0.9923 - val_loss: 0.5473 - val_acc: 0.8396\n",
      "Epoch 10/10\n",
      "20000/20000 [==============================] - 26s 1ms/sample - loss: 0.0207 - acc: 0.9940 - val_loss: 0.6221 - val_acc: 0.8218\n"
     ]
    }
   ],
   "source": [
    "model = tf.keras.models.Sequential()\n",
    "model.add(tf.keras.layers.Embedding(max_features, 32))\n",
    "model.add(tf.keras.layers.SimpleRNN(32))\n",
    "model.add(tf.keras.layers.Dense(1, activation='sigmoid'))\n",
    "\n",
    "model.compile(optimizer='rmsprop', loss='binary_crossentropy', metrics=['acc'])\n",
    "history = model.fit(input_train, y_train, epochs = 10, batch_size = 128, validation_split=0.2)"
   ]
  },
  {
   "cell_type": "code",
   "execution_count": 11,
   "metadata": {
    "ExecuteTime": {
     "end_time": "2020-02-26T06:16:44.454685Z",
     "start_time": "2020-02-26T06:16:42.483674Z"
    }
   },
   "outputs": [
    {
     "data": {
      "image/png": "[encoded data removed]",
      "text/plain": [
       "<Figure size 432x288 with 1 Axes>"
      ]
     },
     "metadata": {
      "needs_background": "light"
     },
     "output_type": "display_data"
    },
    {
     "data": {
      "image/png": "[encoded data removed]",
      "text/plain": [
       "<Figure size 432x288 with 1 Axes>"
      ]
     },
     "metadata": {
      "needs_background": "light"
     },
     "output_type": "display_data"
    }
   ],
   "source": [
    "import matplotlib.pyplot as plt\n",
    "\n",
    "acc = history.history['acc']\n",
    "val_acc = history.history['val_acc']\n",
    "loss = history.history['loss']\n",
    "val_loss = history.history['val_loss']\n",
    "\n",
    "epochs = range(1, len(acc) + 1)\n",
    "plt.plot(epochs, acc, 'bo', label = 'Training acc')\n",
    "plt.plot(epochs, val_acc, 'b', label='Validation acc')\n",
    "plt.legend()\n",
    "plt.figure()\n",
    "\n",
    "plt.plot(epochs, loss, 'bo', label='Training loss')\n",
    "plt.plot(epochs, val_loss, 'b', label='Validation loss')\n",
    "plt.title('Training and Validation loss')\n",
    "plt.legend()\n",
    "\n",
    "plt.show()"
   ]
  },
  {
   "cell_type": "code",
   "execution_count": null,
   "metadata": {},
   "outputs": [],
   "source": []
  }
 ],
 "metadata": {
  "kernelspec": {
   "display_name": "Python 3",
   "language": "python",
   "name": "python3"
  },
  "language_info": {
   "codemirror_mode": {
    "name": "ipython",
    "version": 3
   },
   "file_extension": ".py",
   "mimetype": "text/x-python",
   "name": "python",
   "nbconvert_exporter": "python",
   "pygments_lexer": "ipython3",
   "version": "3.7.3"
  }
 },
 "nbformat": 4,
 "nbformat_minor": 4
}
