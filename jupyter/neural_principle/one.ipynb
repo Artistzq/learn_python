{
 "cells": [
  {
   "cell_type": "code",
   "execution_count": 61,
   "metadata": {
    "ExecuteTime": {
     "end_time": "2020-02-12T14:00:52.750065Z",
     "start_time": "2020-02-12T14:00:52.102382Z"
    }
   },
   "outputs": [],
   "source": [
    "import numpy as np\n",
    "from scipy import special\n",
    "from tensorflow import keras\n",
    "from matplotlib import pyplot as plt"
   ]
  },
  {
   "cell_type": "code",
   "execution_count": 150,
   "metadata": {
    "ExecuteTime": {
     "end_time": "2020-02-13T05:35:07.146021Z",
     "start_time": "2020-02-13T05:35:07.119261Z"
    }
   },
   "outputs": [],
   "source": [
    "class NeuralNetwork:\n",
    "    def __init__(self, inodes, hnodes, onodes, learning_grade):\n",
    "        self.inodes = inodes\n",
    "        self.hnodes = hnodes\n",
    "        self.onodes = onodes\n",
    "        self.learning_grade = learning_grade\n",
    "        \n",
    "        self.wih = np.random.rand(self.hnodes, self.inodes) - 0.5\n",
    "        self.who = np.random.rand(self.onodes, self.hnodes) - 0.5\n",
    "        \n",
    "        self.active_func = lambda x:special.expit(x)\n",
    "        self.inverse_active_func = lambda x:special.logit(x)\n",
    "    \n",
    "    def train(self, inputs_list, targets_list):\n",
    "        inputs = np.array(inputs_list, ndmin=2).T\n",
    "        targets = np.array(targets_list, ndmin=2).T\n",
    "        \n",
    "        hidden_inputs = np.dot(self.wih, inputs)\n",
    "        hidden_outputs = self.active_func(hidden_inputs)\n",
    "        out_inputs = np.dot(self.who, hidden_outputs)\n",
    "        out_outputs = self.active_func(out_inputs)\n",
    "        \n",
    "        out_errors = targets - out_outputs\n",
    "        hidden_errors = np.dot(self.who.T, out_errors)\n",
    "        self.who += self.learning_grade * np.dot(out_errors * out_outputs * (1 - out_outputs), hidden_outputs.T)\n",
    "        self.wih += self.learning_grade * np.dot(hidden_errors * hidden_outputs * (1 - hidden_outputs), inputs.T)\n",
    "    \n",
    "    def query(self, inputs_list):\n",
    "        inputs = np.array(inputs_list, ndmin=2).T\n",
    "        hidden_inputs = np.dot(self.wih, inputs)\n",
    "        hidden_outputs = self.active_func(hidden_inputs)\n",
    "        out_inputs = np.dot(self.who, hidden_outputs)\n",
    "        out_outputs = self.active_func(out_inputs)\n",
    "        \n",
    "        return out_outputs\n",
    "    \n",
    "    def back_query_I(self, targets_list):\n",
    "        out_outputs = np.array(targets_list, ndmin=2).T\n",
    "        out_inputs = self.inverse_active_func(out_outputs)\n",
    "        hidden_outputs = np.dot(self.who.I, out_inputs)\n",
    "        hidden_outputs -= np.min(hidden_outputs)\n",
    "        hidden_outputs /= np.max(hidden_outputs)\n",
    "        hidden_outputs *= 0.98\n",
    "        hidden_outputs += 0.01\n",
    "        \n",
    "        hidden_inputs = self.inverse_active_func(hidden_outputs)\n",
    "        inputs = np.dot(self.wih.I, hidden_inputs)\n",
    "        inputs -= np.min(inputs)\n",
    "        inputs /= np.max(inputs)\n",
    "        inputs *= 0.98\n",
    "        inputs += 0.01\n",
    "        \n",
    "        return inputs\n",
    "        \n",
    "    def back_query_T(self, targets_list):\n",
    "        out_outputs = np.array(targets_list, ndmin=2).T\n",
    "        out_inputs = self.inverse_active_func(out_outputs)\n",
    "        hidden_outputs = np.dot(self.who.T, out_inputs)\n",
    "        hidden_outputs -= np.min(hidden_outputs)\n",
    "        hidden_outputs /= np.max(hidden_outputs)\n",
    "        hidden_outputs *= 0.98\n",
    "        hidden_outputs += 0.01\n",
    "        \n",
    "        hidden_inputs = self.inverse_active_func(hidden_outputs)\n",
    "        inputs = np.dot(self.wih.T, hidden_inputs)\n",
    "        inputs -= np.min(inputs)\n",
    "        inputs /= np.max(inputs)\n",
    "        inputs *= 0.98\n",
    "        inputs += 0.01\n",
    "        \n",
    "        return inputs\n",
    "        "
   ]
  },
  {
   "cell_type": "code",
   "execution_count": 146,
   "metadata": {
    "ExecuteTime": {
     "end_time": "2020-02-13T05:32:59.787790Z",
     "start_time": "2020-02-13T05:32:59.565484Z"
    }
   },
   "outputs": [
    {
     "data": {
      "text/plain": [
       "<matplotlib.image.AxesImage at 0x14bc02048>"
      ]
     },
     "execution_count": 146,
     "metadata": {},
     "output_type": "execute_result"
    },
    {
     "data": {
      "image/png": "[encoded data removed]",
      "text/plain": [
       "<Figure size 432x288 with 1 Axes>"
      ]
     },
     "metadata": {
      "needs_background": "light"
     },
     "output_type": "display_data"
    }
   ],
   "source": [
    "data_file = open(\"mnist_datasets/mnist_test_10.csv\")\n",
    "data_list = data_file.readlines()\n",
    "data_file.close()\n",
    "all_values = data_list[0].split(',')\n",
    "image_array = np.asfarray(all_values[1:]).reshape((28, 28))\n",
    "plt.imshow(image_array)"
   ]
  },
  {
   "cell_type": "code",
   "execution_count": 152,
   "metadata": {
    "ExecuteTime": {
     "end_time": "2020-02-13T05:35:19.577255Z",
     "start_time": "2020-02-13T05:35:19.572653Z"
    }
   },
   "outputs": [],
   "source": [
    "n = NeuralNetwork(784, 100, 10, 0.3)"
   ]
  },
  {
   "cell_type": "code",
   "execution_count": 171,
   "metadata": {
    "ExecuteTime": {
     "end_time": "2020-02-13T05:44:35.384426Z",
     "start_time": "2020-02-13T05:43:56.828868Z"
    }
   },
   "outputs": [],
   "source": [
    "data_file = open(\"mnist_datasets/mnist_train.csv\")\n",
    "data_list = data_file.readlines()\n",
    "data_file.close()\n",
    "\n",
    "for data in data_list:\n",
    "    all_values = data.split(',')\n",
    "    inputs_list = (np.asfarray(all_values[1:]) / 255.0 * 0.99) + 0.01\n",
    "    targets_list = np.zeros(10) + 0.01\n",
    "    targets_list[int(all_values[0])] = 0.99\n",
    "    n.train(inputs_list, targets_list)"
   ]
  },
  {
   "cell_type": "code",
   "execution_count": 172,
   "metadata": {
    "ExecuteTime": {
     "end_time": "2020-02-13T05:46:15.505442Z",
     "start_time": "2020-02-13T05:46:12.648498Z"
    }
   },
   "outputs": [
    {
     "name": "stdout",
     "output_type": "stream",
     "text": [
      "correct: 0.9445\n"
     ]
    }
   ],
   "source": [
    "test_file = open(\"mnist_datasets/mnist_test.csv\")\n",
    "test_list = test_file.readlines()\n",
    "test_file.close()\n",
    "\n",
    "score = []\n",
    "for test in test_list:\n",
    "    all_values = test.split(',')\n",
    "    correct_label = int(all_values[0])\n",
    "    inputs_list = (np.asfarray(all_values[1:])) / 255.0 * 0.99 + 0.01\n",
    "    outputs = n.query(inputs_list)\n",
    "    label = np.argmax(outputs)\n",
    "    if (label == correct_label):\n",
    "        score.append(1)\n",
    "    else:\n",
    "        score.append(0)\n",
    "\n",
    "score_array = np.asarray(score)\n",
    "print(\"correct:\", score_array.sum() / score_array.size)"
   ]
  },
  {
   "cell_type": "code",
   "execution_count": 200,
   "metadata": {
    "ExecuteTime": {
     "end_time": "2020-02-13T06:14:17.922249Z",
     "start_time": "2020-02-13T06:14:17.695463Z"
    }
   },
   "outputs": [
    {
     "name": "stdout",
     "output_type": "stream",
     "text": [
      "[[0]\n",
      " [0]\n",
      " [0]\n",
      " [0]\n",
      " [1]\n",
      " [0]\n",
      " [0]\n",
      " [0]\n",
      " [0]\n",
      " [0]]\n",
      "[[9.18740342e-04]\n",
      " [3.96872135e-03]\n",
      " [8.92207317e-04]\n",
      " [8.71430078e-04]\n",
      " [9.83831548e-01]\n",
      " [1.11858523e-03]\n",
      " [1.69781649e-02]\n",
      " [4.75067476e-03]\n",
      " [6.18186579e-04]\n",
      " [1.21100280e-01]]\n"
     ]
    },
    {
     "data": {
      "text/plain": [
       "[0.0009187403420069477,\n",
       " 0.003968721348455938,\n",
       " 0.000892207316898897,\n",
       " 0.0008714300780116578,\n",
       " 0.9838315483457869,\n",
       " 0.0011185852265075962,\n",
       " 0.016978164859116966,\n",
       " 0.004750674756506107,\n",
       " 0.0006181865790393133,\n",
       " 0.12110027990185875]"
      ]
     },
     "execution_count": 200,
     "metadata": {},
     "output_type": "execute_result"
    },
    {
     "data": {
      "image/png": "[encoded data removed]",
      "text/plain": [
       "<Figure size 432x288 with 1 Axes>"
      ]
     },
     "metadata": {
      "needs_background": "light"
     },
     "output_type": "display_data"
    }
   ],
   "source": [
    "test_file = open(\"mnist_datasets/mnist_test_10.csv\")\n",
    "test_list = test_file.readlines()\n",
    "test_file.close()\n",
    "\n",
    "all_values = test_list[4].split(',')\n",
    "image_array = np.asfarray(all_values[1:]).reshape((28, 28))\n",
    "plt.imshow(image_array)\n",
    "\n",
    "inputs_list = (np.asfarray(all_values[1:])) / 255.0 * 0.99 + 0.01\n",
    "aaa = n.query(inputs_list)\n",
    "print(np.around(aaa).astype(np.int32))\n",
    "print(aaa)\n",
    "aaa.T.reshape((10)).tolist()"
   ]
  },
  {
   "cell_type": "code",
   "execution_count": 212,
   "metadata": {
    "ExecuteTime": {
     "end_time": "2020-02-13T06:24:12.546712Z",
     "start_time": "2020-02-13T06:24:12.328897Z"
    }
   },
   "outputs": [
    {
     "data": {
      "image/png": "[encoded data removed]",
      "text/plain": [
       "<Figure size 432x288 with 1 Axes>"
      ]
     },
     "metadata": {
      "needs_background": "light"
     },
     "output_type": "display_data"
    }
   ],
   "source": [
    "label = 8\n",
    "targets_list = np.zeros(10) + 0.01\n",
    "targets_list[label] = 0.99\n",
    "a = n.back_query_T(targets_list)\n",
    "plt.imshow(a.reshape((28, 28)))\n",
    "plt.show()"
   ]
  },
  {
   "cell_type": "code",
   "execution_count": null,
   "metadata": {},
   "outputs": [],
   "source": [
    "这是"
   ]
  }
 ],
 "metadata": {
  "kernelspec": {
   "display_name": "Python 3",
   "language": "python",
   "name": "python3"
  },
  "language_info": {
   "codemirror_mode": {
    "name": "ipython",
    "version": 3
   },
   "file_extension": ".py",
   "mimetype": "text/x-python",
   "name": "python",
   "nbconvert_exporter": "python",
   "pygments_lexer": "ipython3",
   "version": "3.7.3"
  }
 },
 "nbformat": 4,
 "nbformat_minor": 4
}
